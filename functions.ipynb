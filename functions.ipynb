{
  "nbformat": 4,
  "nbformat_minor": 0,
  "metadata": {
    "colab": {
      "name": "L1 - Lec4.ipynb",
      "provenance": [],
      "collapsed_sections": []
    },
    "kernelspec": {
      "display_name": "Python 3",
      "language": "python",
      "name": "python3"
    },
    "language_info": {
      "codemirror_mode": {
        "name": "ipython",
        "version": 3
      },
      "file_extension": ".py",
      "mimetype": "text/x-python",
      "name": "python",
      "nbconvert_exporter": "python",
      "pygments_lexer": "ipython3",
      "version": "3.7.6"
    }
  },
  "cells": [
    {
      "cell_type": "markdown",
      "metadata": {
        "id": "mSXOuhxjQqla"
      },
      "source": [
        "# Functions"
      ]
    },
    {
      "cell_type": "markdown",
      "metadata": {
        "id": "XzUQ1Ud39PFf"
      },
      "source": [
        "\n",
        "A function is a set of statements that take inputs, do some specific computation and produces output. \n",
        "\n",
        "There are many ways to define functions:\n",
        "\n",
        "- Functions can be built-in to python, or imported from an existing Python Library\n",
        "- A function can be user defined\n",
        "- A function can be anonymous\n",
        "- functions can belong to objects. More on this later.\n",
        "\n",
        "properties of functions:\n",
        "\n",
        "- A function can be called from other functions\n",
        "- Can return data\n",
        "\n",
        "![](https://github.com/iniyan1984/BasicPython/blob/main/functions.slides.dir/2.png?raw=1)\n",
        "\n",
        "Here is another example of a built-in function"
      ]
    },
    {
      "cell_type": "markdown",
      "metadata": {
        "id": "wfRCRRhnQqlc"
      },
      "source": [
        "## Built-ins and imports"
      ]
    },
    {
      "cell_type": "code",
      "metadata": {
        "colab": {
          "base_uri": "https://localhost:8080/"
        },
        "id": "jpsMeACR9dpx",
        "outputId": "7342d0e8-b450-4315-a4cb-366896826f93"
      },
      "source": [
        "#Built-in functions\n",
        "\n",
        "var1 = -15\n",
        "abs(var1)"
      ],
      "execution_count": 1,
      "outputs": [
        {
          "output_type": "execute_result",
          "data": {
            "text/plain": [
              "15"
            ]
          },
          "metadata": {
            "tags": []
          },
          "execution_count": 1
        }
      ]
    },
    {
      "cell_type": "markdown",
      "metadata": {
        "id": "pbJFEpIwQqld"
      },
      "source": [
        "Here are two different ways of **importing from a module**, which is a library of python functions:"
      ]
    },
    {
      "cell_type": "code",
      "metadata": {
        "id": "Pp-aobpcQqld",
        "outputId": "7d4d6512-79c2-4f64-dc69-0370ebf7cba8",
        "colab": {
          "base_uri": "https://localhost:8080/"
        }
      },
      "source": [
        "from math import sqrt\n",
        "sqrt(4)"
      ],
      "execution_count": 2,
      "outputs": [
        {
          "output_type": "execute_result",
          "data": {
            "text/plain": [
              "2.0"
            ]
          },
          "metadata": {
            "tags": []
          },
          "execution_count": 2
        }
      ]
    },
    {
      "cell_type": "code",
      "metadata": {
        "id": "TxBzjSRSRISb",
        "outputId": "e6b56479-95e0-4571-8e27-ac486489862f",
        "colab": {
          "base_uri": "https://localhost:8080/"
        }
      },
      "source": [
        "import math\n",
        "math.sqrt(4)"
      ],
      "execution_count": 3,
      "outputs": [
        {
          "output_type": "execute_result",
          "data": {
            "text/plain": [
              "2.0"
            ]
          },
          "metadata": {
            "tags": []
          },
          "execution_count": 3
        }
      ]
    },
    {
      "cell_type": "code",
      "metadata": {
        "id": "TUWtd_j4Qqle",
        "outputId": "4927d548-9049-4fb5-ccc7-c8322612c13e",
        "colab": {
          "base_uri": "https://localhost:8080/"
        }
      },
      "source": [
        "import os\n",
        "os.cpu_count()"
      ],
      "execution_count": 4,
      "outputs": [
        {
          "output_type": "execute_result",
          "data": {
            "text/plain": [
              "2"
            ]
          },
          "metadata": {
            "tags": []
          },
          "execution_count": 4
        }
      ]
    },
    {
      "cell_type": "markdown",
      "metadata": {
        "id": "8aXJYao_5gFW"
      },
      "source": [
        "## Defining your own functions\n",
        "\n",
        "![](https://github.com/iniyan1984/BasicPython/blob/main/functions.slides.dir/3.png?raw=1)\n",
        "\n",
        "- You can take a number of arguments as input with varying data types. \n",
        "- The arguemnts can optionally have default values which are used in case of no values passed to the function."
      ]
    },
    {
      "cell_type": "code",
      "metadata": {
        "colab": {
          "base_uri": "https://localhost:8080/"
        },
        "id": "OK4WYT7f9awE",
        "outputId": "f8d3081b-1694-45e6-a95c-b8bef3aa9cec"
      },
      "source": [
        "# User-defined function with one argument\n",
        "\n",
        "def function_name1(var1):\n",
        "    var2 = 10\n",
        "    x = var1 + var2\n",
        "    return x\n",
        "\n",
        "var1 = 6\n",
        "var2 = function_name1(var1)\n",
        "print (var2)"
      ],
      "execution_count": 6,
      "outputs": [
        {
          "output_type": "stream",
          "text": [
            "16\n"
          ],
          "name": "stdout"
        }
      ]
    },
    {
      "cell_type": "code",
      "metadata": {
        "colab": {
          "base_uri": "https://localhost:8080/"
        },
        "id": "SsPmY2f26rj7",
        "outputId": "f2163dc5-faff-4ea5-9fb3-b9f45ee15a83"
      },
      "source": [
        "#User defined function with 2 arguments, where the second one is a list with default values.\n",
        "\n",
        "def function_name2(var2, l1=[1,2,3,4]):\n",
        "    l2 = []\n",
        "    for i in l1:\n",
        "        l2.append(var2+i)\n",
        "    return l2\n",
        "\n",
        "var2 = 6\n",
        "l = function_name2(var2)\n",
        "print (\"This is the list that has been returned \", l)"
      ],
      "execution_count": 7,
      "outputs": [
        {
          "output_type": "stream",
          "text": [
            "This is the list that has been returned  [7, 8, 9, 10]\n"
          ],
          "name": "stdout"
        }
      ]
    },
    {
      "cell_type": "code",
      "metadata": {
        "id": "Qd0Y3hUVQqlf",
        "outputId": "39d0f93a-00e3-46bf-e88b-a5460f059da5"
      },
      "source": [
        "function_name2(var2, [0,0,0,0])"
      ],
      "execution_count": null,
      "outputs": [
        {
          "output_type": "execute_result",
          "data": {
            "text/plain": [
              "[6, 6, 6, 6]"
            ]
          },
          "metadata": {
            "tags": []
          },
          "execution_count": 4
        }
      ]
    },
    {
      "cell_type": "code",
      "metadata": {
        "id": "sCHCcVzXQqlf",
        "outputId": "93bbcb93-5b3e-4338-d82f-58c729d6fdd6"
      },
      "source": [
        "function_name2(var2, l1=[0,0,0,0])"
      ],
      "execution_count": null,
      "outputs": [
        {
          "output_type": "execute_result",
          "data": {
            "text/plain": [
              "[6, 6, 6, 6]"
            ]
          },
          "metadata": {
            "tags": []
          },
          "execution_count": 5
        }
      ]
    },
    {
      "cell_type": "markdown",
      "metadata": {
        "id": "Q-5eocQYQqlf"
      },
      "source": [
        "## Anonymous Functions\n",
        "\n",
        "Functions may also be defined using the so-called **lambda** or anonymous function, in which functions are then assigned to variables:"
      ]
    },
    {
      "cell_type": "code",
      "metadata": {
        "id": "GcTM3AqkQqlh"
      },
      "source": [
        "square = lambda x: x*x\n",
        "affine = lambda a,b,x: a+b*x"
      ],
      "execution_count": 8,
      "outputs": []
    },
    {
      "cell_type": "markdown",
      "metadata": {
        "id": "a8JH5pfsQqlh"
      },
      "source": [
        "These are particularly useful for math where most functions are algebraic 1-liners"
      ]
    },
    {
      "cell_type": "code",
      "metadata": {
        "id": "A6w_yAT7Qqli",
        "outputId": "b5db10f5-c5bf-4943-9ea4-dbcae753c491",
        "colab": {
          "base_uri": "https://localhost:8080/"
        }
      },
      "source": [
        "square(5)"
      ],
      "execution_count": 9,
      "outputs": [
        {
          "output_type": "execute_result",
          "data": {
            "text/plain": [
              "25"
            ]
          },
          "metadata": {
            "tags": []
          },
          "execution_count": 9
        }
      ]
    },
    {
      "cell_type": "code",
      "metadata": {
        "id": "b1yu7bqWQqli",
        "outputId": "f95e9571-3d40-4fb5-9315-99eb84c390fc",
        "colab": {
          "base_uri": "https://localhost:8080/"
        }
      },
      "source": [
        "affine(1,2,5)"
      ],
      "execution_count": 10,
      "outputs": [
        {
          "output_type": "execute_result",
          "data": {
            "text/plain": [
              "11"
            ]
          },
          "metadata": {
            "tags": []
          },
          "execution_count": 10
        }
      ]
    },
    {
      "cell_type": "markdown",
      "metadata": {
        "id": "J3a7HA35w655"
      },
      "source": [
        "## The scope of variables in functions\n",
        "\n",
        "![](https://github.com/iniyan1984/BasicPython/blob/main/functions.slides.dir/7.png?raw=1)\n",
        "\n",
        "- Scope of a variable is the portion of a program where the variable is recognized. Parameters and variables defined inside a function are not visible from outside. Hence, they have a local scope.\n",
        "\n",
        "- Lifetime of a variable is the period throughout which the variable exits in the memory. The lifetime of variables inside a function is as long as the function executes.\n",
        "\n",
        "- They are destroyed once we return from the function. Hence, a function does not remember the value of a variable from its previous calls.\n",
        "\n",
        "The scope of this jupyter notebook, or in a python file, is the **global scope**. Cariables defined here exist through the lifetime of the python program.\n",
        "\n",
        "The scope defined inside of a function definition is the **local** scope.\n",
        "\n",
        "Here is an example to illustrate the scope of a variable inside a function."
      ]
    },
    {
      "cell_type": "code",
      "metadata": {
        "id": "_VY5wunTxNxY",
        "outputId": "e394d207-9a84-4411-ce77-611cb0614cd9"
      },
      "source": [
        "def my_func():\n",
        "    x = 10\n",
        "    print(\"Value inside function:\",x)\n",
        "\n",
        "x = 20\n",
        "my_func()\n",
        "print(\"Value outside function:\",x)"
      ],
      "execution_count": null,
      "outputs": [
        {
          "output_type": "stream",
          "text": [
            "Value inside function: 10\n",
            "Value outside function: 20\n"
          ],
          "name": "stdout"
        }
      ]
    },
    {
      "cell_type": "markdown",
      "metadata": {
        "id": "beGwYd94Qqlj"
      },
      "source": [
        "In this way, a variable defined locally can shadow a global. Here the value `x` inside `my_func`comes from the local definition (10), not the global one (20)\n",
        "\n",
        "![](https://github.com/iniyan1984/BasicPython/blob/main/functions.slides.dir/8.png?raw=1)"
      ]
    }
  ]
}