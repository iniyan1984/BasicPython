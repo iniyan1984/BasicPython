{
  "nbformat": 4,
  "nbformat_minor": 0,
  "metadata": {
    "colab": {
      "name": "L1 - lec1.ipynb",
      "provenance": [],
      "collapsed_sections": []
    },
    "kernelspec": {
      "display_name": "Python 3",
      "language": "python",
      "name": "python3"
    },
    "language_info": {
      "codemirror_mode": {
        "name": "ipython",
        "version": 3
      },
      "file_extension": ".py",
      "mimetype": "text/x-python",
      "name": "python",
      "nbconvert_exporter": "python",
      "pygments_lexer": "ipython3",
      "version": "3.7.6"
    }
  },
  "cells": [
    {
      "cell_type": "markdown",
      "metadata": {
        "id": "WIeYQxLAGNaJ"
      },
      "source": [
        "# Getting Started with Python\n",
        "\n",
        "Lets start at the very beginning. You can use Python as a calculator.\n",
        "\n",
        "![](https://github.com/iniyan1984/BasicPython/blob/main/getting_started.slides.dir/8.png?raw=1)"
      ]
    },
    {
      "cell_type": "markdown",
      "metadata": {
        "id": "90cJsyQgGNaK"
      },
      "source": [
        "## A calculator"
      ]
    },
    {
      "cell_type": "code",
      "metadata": {
        "id": "UqJqisfGGNaK",
        "outputId": "cc1e8d95-8ab1-4fc1-a7c2-248846bca499"
      },
      "source": [
        "1 + 1"
      ],
      "execution_count": null,
      "outputs": [
        {
          "output_type": "execute_result",
          "data": {
            "text/plain": [
              "2"
            ]
          },
          "metadata": {
            "tags": []
          },
          "execution_count": 1
        }
      ]
    },
    {
      "cell_type": "code",
      "metadata": {
        "id": "iXA9orP7GNaL",
        "outputId": "2746520f-be9a-45ac-b469-d93095c11339"
      },
      "source": [
        "5 - 1"
      ],
      "execution_count": null,
      "outputs": [
        {
          "output_type": "execute_result",
          "data": {
            "text/plain": [
              "4"
            ]
          },
          "metadata": {
            "tags": []
          },
          "execution_count": 2
        }
      ]
    },
    {
      "cell_type": "code",
      "metadata": {
        "id": "oMwp5E8fGNaL",
        "outputId": "7d57391c-f617-438e-87ab-9c849f4c2755"
      },
      "source": [
        "23*45"
      ],
      "execution_count": null,
      "outputs": [
        {
          "output_type": "execute_result",
          "data": {
            "text/plain": [
              "1035"
            ]
          },
          "metadata": {
            "tags": []
          },
          "execution_count": 3
        }
      ]
    },
    {
      "cell_type": "code",
      "metadata": {
        "id": "D2SiTXPxGNaL",
        "outputId": "807a7694-81df-4638-bf92-bcb51c2f0c86"
      },
      "source": [
        "2**10"
      ],
      "execution_count": null,
      "outputs": [
        {
          "output_type": "execute_result",
          "data": {
            "text/plain": [
              "1024"
            ]
          },
          "metadata": {
            "tags": []
          },
          "execution_count": 8
        }
      ]
    },
    {
      "cell_type": "code",
      "metadata": {
        "id": "_-GKtbKvGNaM",
        "outputId": "de1218e0-ff91-447b-ce43-37644ca1b133"
      },
      "source": [
        "5/2"
      ],
      "execution_count": null,
      "outputs": [
        {
          "output_type": "execute_result",
          "data": {
            "text/plain": [
              "2.5"
            ]
          },
          "metadata": {
            "tags": []
          },
          "execution_count": 5
        }
      ]
    },
    {
      "cell_type": "markdown",
      "metadata": {
        "id": "A11_6s75GNaM"
      },
      "source": [
        "And this is integer divison:"
      ]
    },
    {
      "cell_type": "code",
      "metadata": {
        "id": "MQBeukPLGNaM",
        "outputId": "db5a7463-695b-4504-aa3f-1b5dea332305"
      },
      "source": [
        "5//2"
      ],
      "execution_count": null,
      "outputs": [
        {
          "output_type": "execute_result",
          "data": {
            "text/plain": [
              "2"
            ]
          },
          "metadata": {
            "tags": []
          },
          "execution_count": 6
        }
      ]
    },
    {
      "cell_type": "markdown",
      "metadata": {
        "id": "2uJjFB_gGNaM"
      },
      "source": [
        "You can also get the remainder:"
      ]
    },
    {
      "cell_type": "code",
      "metadata": {
        "id": "PmT9ljA7GNaN",
        "outputId": "c23be9d8-6d9b-4d33-9ed5-24340d33fd55"
      },
      "source": [
        "5 % 2"
      ],
      "execution_count": null,
      "outputs": [
        {
          "output_type": "execute_result",
          "data": {
            "text/plain": [
              "1"
            ]
          },
          "metadata": {
            "tags": []
          },
          "execution_count": 7
        }
      ]
    },
    {
      "cell_type": "markdown",
      "metadata": {
        "id": "1iOs0Qd_ah_A"
      },
      "source": [
        "A language is not particularly useful,if you cant *symbolically* assign values in the language to names. This is the concept of *variables*, stolen from algebra.\n",
        "\n",
        "## Variables\n",
        "\n",
        "**Variables are labels for values**\n",
        "\n",
        "- Start with a letter or underscore\n",
        "- Can contain only alpha-numeric characters and underscore\n",
        "- Are case sensitive"
      ]
    },
    {
      "cell_type": "code",
      "metadata": {
        "id": "uX-33Ockarbc",
        "outputId": "1705cc5d-d9d5-472c-8a15-2f4dbc1dee9a"
      },
      "source": [
        "# CANT DO THIS 9variable = \"hello\"\n",
        "# print 9variable\n",
        "\n",
        "Var = \"hello\"\n",
        "#print (var) # will give an error\n",
        "print (Var)"
      ],
      "execution_count": null,
      "outputs": [
        {
          "output_type": "stream",
          "text": [
            "hello\n"
          ],
          "name": "stdout"
        }
      ]
    },
    {
      "cell_type": "markdown",
      "metadata": {
        "id": "faFhPIKgGNaN"
      },
      "source": [
        "What happened above? In the computer's memory, a location was found, and then filled with the word \"hello\". Then a variable `Var` was created and was used to label this memory location.\n",
        "\n",
        "![](https://github.com/iniyan1984/BasicPython/blob/main/images/labelmem.jpg?raw=1)"
      ]
    },
    {
      "cell_type": "markdown",
      "metadata": {
        "id": "i883lrL-au-6"
      },
      "source": [
        "### Variable Data Types\n",
        "\n",
        "  - Integer\n",
        "  - Float\n",
        "  - String\n",
        "  - Boolean\n",
        "\n",
        "(More data types are available but not necessary now)"
      ]
    },
    {
      "cell_type": "code",
      "metadata": {
        "id": "PXUOcyCYa0B4",
        "outputId": "b44aa6cb-f2be-4ffe-e331-815e44bbf9cb"
      },
      "source": [
        "#To identify the data type of a variable in python we use the built-in function type()\n",
        "\n",
        "var = 7\n",
        "print (var)\n",
        "print(\"The data type is:\", type(var))"
      ],
      "execution_count": null,
      "outputs": [
        {
          "output_type": "stream",
          "text": [
            "7\n",
            "The data type is: <class 'int'>\n"
          ],
          "name": "stdout"
        }
      ]
    },
    {
      "cell_type": "code",
      "metadata": {
        "id": "gxlREmada7xz",
        "outputId": "01292ca5-a32f-4ac3-fb60-c08ed127d904"
      },
      "source": [
        "var = 7.01\n",
        "print (var)\n",
        "print(\"The data type is:\", type(var))"
      ],
      "execution_count": null,
      "outputs": [
        {
          "output_type": "stream",
          "text": [
            "7.01\n",
            "The data type is: <class 'float'>\n"
          ],
          "name": "stdout"
        }
      ]
    },
    {
      "cell_type": "code",
      "metadata": {
        "id": "8KC5JyfZa93t",
        "outputId": "88508d07-05c8-49a6-91e3-4daec1176a1c"
      },
      "source": [
        "var = \"Hello World!\"\n",
        "print (var)\n",
        "print(\"The data type is:\", type(var))"
      ],
      "execution_count": null,
      "outputs": [
        {
          "output_type": "stream",
          "text": [
            "Hello World!\n",
            "The data type is: <class 'str'>\n"
          ],
          "name": "stdout"
        }
      ]
    },
    {
      "cell_type": "code",
      "metadata": {
        "id": "llCMJzpcbAAp",
        "outputId": "0a8ed02a-59cd-4700-9680-7199f18f9966"
      },
      "source": [
        "var = True\n",
        "print (var)\n",
        "print(\"The data type is:\", type(var))"
      ],
      "execution_count": null,
      "outputs": [
        {
          "output_type": "stream",
          "text": [
            "True\n",
            "The data type is: <class 'bool'>\n"
          ],
          "name": "stdout"
        }
      ]
    },
    {
      "cell_type": "markdown",
      "metadata": {
        "id": "s8z0c976GNaP"
      },
      "source": [
        "A variable is literally a label. You can think of it as a post-it, or sticky note, or a *pointer*. Do not think of it as a box in which a value is stored.\n",
        "\n",
        "In the above, we just take the variable `var` and point it to different pieces of memory holding different values. This is perhaps more clear from a diagram.\n",
        "\n",
        "![](https://github.com/iniyan1984/BasicPython/blob/main/images/labelmemmany.jpg?raw=1)"
      ]
    },
    {
      "cell_type": "markdown",
      "metadata": {
        "id": "R7rxdurPbFOE"
      },
      "source": [
        "## Even More operators\n",
        "\n",
        "Besides the usual \"operators\" for values we profiled at the top, you can also use the following:\n",
        "\n",
        "1. Boolean Expressions: returns True or False \n",
        "2. Relational operators: !=, ==, <=, <, >, >= \n",
        "3. Logical Operators: and, or, not\n",
        "\n",
        "You can use a variable, wherever you had used a value:"
      ]
    },
    {
      "cell_type": "code",
      "metadata": {
        "id": "ecFxNLCybLTC"
      },
      "source": [
        "# Arithmetic Operators\n",
        "var1 = 5\n",
        "var2 = 3\n",
        "\n",
        "print (var1 - var2)\n",
        "print (var1*var2)\n",
        "\n",
        "var1 = \"hello\"\n",
        "var2 = \"world\"\n",
        "var3 = \"!\"\n",
        "print (var1+\" \"+var2+var3)\n",
        "\n",
        "# Modulus\n",
        "a = 5\n",
        "b = 2\n",
        "c = a%b\n",
        "print (c)"
      ],
      "execution_count": null,
      "outputs": []
    },
    {
      "cell_type": "markdown",
      "metadata": {
        "id": "EKeoyEGbGNaP"
      },
      "source": [
        "In any programming language, to be able to do something useful, you need to be able to evaluate the \"truthiness\" of expressions."
      ]
    },
    {
      "cell_type": "code",
      "metadata": {
        "id": "kEoN0v2tGNaP",
        "outputId": "74703b5e-5eeb-45aa-8403-3e7777af3fe0"
      },
      "source": [
        "# Relational Operators & Boolean expressions\n",
        "var1 = 5\n",
        "var2 = 3\n",
        "print (var1 < var2)"
      ],
      "execution_count": null,
      "outputs": [
        {
          "output_type": "stream",
          "text": [
            "False\n"
          ],
          "name": "stdout"
        }
      ]
    },
    {
      "cell_type": "markdown",
      "metadata": {
        "id": "JjbX7GNWGNaQ"
      },
      "source": [
        "Such comparisons can be used to make decisions, as we shall soon see."
      ]
    },
    {
      "cell_type": "code",
      "metadata": {
        "id": "z5ZK35u7GNaQ",
        "outputId": "b4a1c80e-6298-4db0-d620-c8f7d93827ab"
      },
      "source": [
        "a = \"hgi\"\n",
        "b = \"hello\"\n",
        "c = \"hi\"\n",
        "d = \"hello\"\n",
        "print (a==c)\n",
        "print (b==d)"
      ],
      "execution_count": null,
      "outputs": [
        {
          "output_type": "stream",
          "text": [
            "False\n",
            "True\n"
          ],
          "name": "stdout"
        }
      ]
    },
    {
      "cell_type": "markdown",
      "metadata": {
        "id": "iOINU1x1GNaQ"
      },
      "source": [
        "The first comparison compares the contents of the memory for `a` and `c` and finds that both are different, giving us `False`. Conversely, the second comparison gives us `True`. We can utilize such comparisons in \"decision statements\"."
      ]
    },
    {
      "cell_type": "markdown",
      "metadata": {
        "id": "5at6TQF3bsw7"
      },
      "source": [
        "## Conditional Statements and Python Indentation\n",
        "\n",
        "If you have the ability to test something for \"truthiness\", you can use it to make a decision."
      ]
    },
    {
      "cell_type": "code",
      "metadata": {
        "id": "VUZf9DZ3bzJa",
        "outputId": "10bb78d1-ec73-4d90-a5d6-47d7d06fb4ac"
      },
      "source": [
        "#Simple If conditions\n",
        "var1 = 5\n",
        "var2 = 10\n",
        "\n",
        "if var1 == var2:\n",
        "    print(\"The values are equal\")\n",
        "if var1 < var2:\n",
        "    print(\"First variable is lesser than the second variable\")\n",
        "if var1 > var2:\n",
        "    print(\"Second variable is lesser than the first variable\")"
      ],
      "execution_count": null,
      "outputs": [
        {
          "output_type": "stream",
          "text": [
            "First variable is lesser than the second variable\n"
          ],
          "name": "stdout"
        }
      ]
    },
    {
      "cell_type": "markdown",
      "metadata": {
        "id": "ciLDJkAgGNaR"
      },
      "source": [
        "Notice how python dispenses with brackets, **replacing them by a colon and an indented next line**. The indentation tells us that the code below runs when the condition holds. Python uses this **colon-indentation** for many things, such as *for loops* for iteration and loops in general, for conditionals, for function and class definition, etc."
      ]
    },
    {
      "cell_type": "markdown",
      "metadata": {
        "id": "845fBFRuGNaR"
      },
      "source": [
        "This conditional is such a common idiom that there is a better way to write it."
      ]
    },
    {
      "cell_type": "code",
      "metadata": {
        "id": "VsRHt8nKb1xv",
        "outputId": "75ece759-2064-4add-c827-5ceebe2e7bd7"
      },
      "source": [
        "#An alternative way to code the previous (If-Else)\n",
        "var1 = 5\n",
        "var2 = 10\n",
        "\n",
        "if (var1 == var2):\n",
        "    print(\"The values are equal\")\n",
        "elif (var1 < var2):\n",
        "    print(\"First variable is lesser than the second variable\")  \n",
        "else:\n",
        "    print(\"Second variable is lesser than the first variable\")"
      ],
      "execution_count": null,
      "outputs": [
        {
          "output_type": "stream",
          "text": [
            "First variable is lesser than the second variable\n"
          ],
          "name": "stdout"
        }
      ]
    },
    {
      "cell_type": "markdown",
      "metadata": {
        "id": "0nCfHqf4GNaR"
      },
      "source": [
        "Notice the brackets around the conditional. These are optional but can sometimes help disambiguate. You can combine multiple such statements."
      ]
    },
    {
      "cell_type": "code",
      "metadata": {
        "id": "5i9oEH0sb7qw",
        "outputId": "3c0c756d-dfd9-4bd2-d18e-f5e1760dd9de"
      },
      "source": [
        "#Nested If\n",
        "var1 = 5\n",
        "var2 = 10\n",
        "var3 = 15\n",
        "\n",
        "if (var1 == var2):\n",
        "    print (\"The values are equal\")\n",
        "\n",
        "elif (var1 < var2):\n",
        "    if (var2 == var3):\n",
        "        print (\"Equal \")\n",
        "    elif (var2 < var3):\n",
        "        print (\"Less than\")\n",
        "    else:\n",
        "        print (\"Greater than\")\n",
        "\n",
        "else:\n",
        "    print (\"Did not satisfy any previous conditions\")\n"
      ],
      "execution_count": null,
      "outputs": [
        {
          "output_type": "stream",
          "text": [
            "Less than\n"
          ],
          "name": "stdout"
        }
      ]
    }
  ]
}